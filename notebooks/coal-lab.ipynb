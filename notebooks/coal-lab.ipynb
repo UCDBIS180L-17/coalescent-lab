{
 "cells": [
  {
   "cell_type": "markdown",
   "metadata": {},
   "source": [
    "# Human Variation and Diesase Coalescent Computer Lab\n",
    "---"
   ]
  },
  {
   "cell_type": "markdown",
   "metadata": {},
   "source": [
    "Welcome to the coalescent computer lab! Here we'll explore some fundementals of the coalescent using explortory data analysis (i.e. computing summaray statistics / visulization) and simulation. We'll employ a powerful coalescent simulator called `msprime` which allow us to efficently generate genelogies under a given demography and subsquently sprinkle mutations on these genelogies to generate sequence data. Coalecsent simulation is a very important tool to be equipped with for the modern population geneticist as ...\n",
    "\n",
    "* It allows us to develop intuition for a simple generative model that could explain patterns in our data\n",
    "* We can use simulations to compare the accuracy of methods and see where they break down and suceed\n",
    "* Simulation can be used in inference for instance to obtain monte carlo estimates for particular steps of a complicated model or peform approximate Bayesian inference (ABC)\n",
    "\n",
    "A quick note about computing: The environment we are in is called a `jupyter notebook`. A `jupyter notebook` is an interactive computational portal that allows us to make documents that combine simple text formats (markdown / latex) and code. This is quite powerful as we can write up analyses and explorations in the notebook and annonate visualizations and code with text and even math (via latex). Jupyter is primary geared for `python` but one can actually change the \"kernal\" of the notebook to use `R` and even `julia`. Today we'll actually be using a very interesting python package called `rpy2` which allows us to run `R` commands in a `python` kernal. We can even pass objects created in python into an `R` code block. How this works will become more clear as we get started. Alright now lets begin by importing various libraries that we'll be using in this notebook!"
   ]
  },
  {
   "cell_type": "markdown",
   "metadata": {},
   "source": [
    "## Imports / configuration"
   ]
  },
  {
   "cell_type": "markdown",
   "metadata": {},
   "source": [
    "Here we load a jupyter extension that allows us to use `rpy2` to pass objects back and forth between `R` and `python` code blocks. "
   ]
  },
  {
   "cell_type": "code",
   "execution_count": 1,
   "metadata": {},
   "outputs": [],
   "source": [
    "%load_ext rpy2.ipython"
   ]
  },
  {
   "cell_type": "markdown",
   "metadata": {},
   "source": [
    "This is how we import packages in python. `numpy` is a python package for creating, manipulating and operating on arrays. Lastly but not least, `msprime` is a python package for performing coalescent simulations! It expands upon Dick Hudson's, a UChicago professor and coalescent pioneer, `ms` software. "
   ]
  },
  {
   "cell_type": "code",
   "execution_count": 102,
   "metadata": {},
   "outputs": [],
   "source": [
    "import numpy as np\n",
    "import msprime \n",
    "from IPython.display import SVG"
   ]
  },
  {
   "cell_type": "markdown",
   "metadata": {},
   "source": [
    "Here is a quick example of how we can pass python objects into `R`. Lets first create a simple matrix $\\mathbf{A}$ "
   ]
  },
  {
   "cell_type": "code",
   "execution_count": 13,
   "metadata": {},
   "outputs": [
    {
     "data": {
      "text/plain": [
       "array([[1, 2],\n",
       "       [3, 4]])"
      ]
     },
     "execution_count": 13,
     "metadata": {},
     "output_type": "execute_result"
    }
   ],
   "source": [
    "A = np.array([[1,2], [3, 4]])\n",
    "A"
   ]
  },
  {
   "cell_type": "markdown",
   "metadata": {},
   "source": [
    "Lets now import $\\mathbf{A}$ into `R`. To use `R` use the `%%R` command in the top of the code block ..."
   ]
  },
  {
   "cell_type": "code",
   "execution_count": 18,
   "metadata": {},
   "outputs": [
    {
     "data": {
      "text/plain": [
       "     [,1] [,2]\n",
       "[1,]    1    2\n",
       "[2,]    3    4\n"
      ]
     },
     "metadata": {},
     "output_type": "display_data"
    }
   ],
   "source": [
    "%%R -i A\n",
    "A"
   ]
  },
  {
   "cell_type": "markdown",
   "metadata": {},
   "source": [
    "Cool! That seems to work. Lets try making simple plot ..."
   ]
  },
  {
   "cell_type": "code",
   "execution_count": 21,
   "metadata": {},
   "outputs": [
    {
     "data": {
      "image/png": "[encoded data removed]"
     },
     "metadata": {},
     "output_type": "display_data"
    }
   ],
   "source": [
    "%%R\n",
    "library(ggplot2)\n",
    "qplot(rnorm(1000))"
   ]
  },
  {
   "cell_type": "markdown",
   "metadata": {},
   "source": [
    "We are now equipped to run the rest of the notebook ..."
   ]
  },
  {
   "cell_type": "markdown",
   "metadata": {},
   "source": [
    "## A \"fishy\" population genetics mystery"
   ]
  },
  {
   "cell_type": "markdown",
   "metadata": {},
   "source": [
    "Suppose you are hired as a consultant for the local fisheries agency. They have decided they'd like to track the genetic diversity of the *strange and quite rare* haploid local salmon population to help inform conservation efforts on this important species. They give ***you*** a genomic dataset that was generated from $n=50$ individuals in $r=100$ indepdent non-recombining regions of the salmon genome each of length $\\ell=5000$. This dataset is a genotype matrix where the rows are haploid individuals and the columns are different genetic variants "
   ]
  },
  {
   "cell_type": "code",
   "execution_count": 99,
   "metadata": {},
   "outputs": [
    {
     "data": {
      "text/plain": [
       "array([[0, 0, 0, ..., 1, 0, 0],\n",
       "       [1, 0, 0, ..., 0, 0, 0],\n",
       "       [0, 0, 0, ..., 0, 0, 0],\n",
       "       ...,\n",
       "       [0, 0, 1, ..., 0, 0, 0],\n",
       "       [0, 0, 0, ..., 0, 0, 0],\n",
       "       [0, 0, 0, ..., 0, 0, 0]], dtype=int32)"
      ]
     },
     "execution_count": 99,
     "metadata": {},
     "output_type": "execute_result"
    }
   ],
   "source": [
    "G = np.load(\"data/genotype_matrix.npy\")\n",
    "G"
   ]
  },
  {
   "cell_type": "markdown",
   "metadata": {},
   "source": [
    "---"
   ]
  },
  {
   "cell_type": "markdown",
   "metadata": {},
   "source": [
    "In `python` or `R` (*your choice*) write three functions that take in `G` as an argument to compute some important summarary statistics ...\n",
    "\n",
    "* nucleotide diversity $\\pi$\n",
    "* the number of segregating sites $S$\n",
    "* the site frequency spectrum $(\\zeta_1, \\zeta_2, \\dots, \\zeta_n)$ "
   ]
  },
  {
   "cell_type": "code",
   "execution_count": 96,
   "metadata": {},
   "outputs": [
    {
     "data": {
      "text/plain": [
       "(50, 9122)"
      ]
     },
     "execution_count": 96,
     "metadata": {},
     "output_type": "execute_result"
    }
   ],
   "source": [
    "%%R -i G\n",
    "# R code goes here"
   ]
  },
  {
   "cell_type": "code",
   "execution_count": null,
   "metadata": {},
   "outputs": [],
   "source": [
    "# python code goes here"
   ]
  },
  {
   "cell_type": "markdown",
   "metadata": {},
   "source": [
    "Given your estimate of $\\pi$ and $S$ compute Tajimas D and plot the SFS. What do these tell you about how the salmon population is doing (specifically the population size)?"
   ]
  },
  {
   "cell_type": "code",
   "execution_count": null,
   "metadata": {},
   "outputs": [],
   "source": [
    "%%R\n",
    "# R code for computations and plots go here"
   ]
  },
  {
   "cell_type": "code",
   "execution_count": null,
   "metadata": {},
   "outputs": [],
   "source": [
    "# python code for computations and plots go here"
   ]
  },
  {
   "cell_type": "markdown",
   "metadata": {},
   "source": [
    "---"
   ]
  },
  {
   "cell_type": "markdown",
   "metadata": {},
   "source": [
    "We'll return to this example shortly ..."
   ]
  },
  {
   "cell_type": "markdown",
   "metadata": {},
   "source": [
    "## Coalescent simulation using `msprime`"
   ]
  },
  {
   "cell_type": "markdown",
   "metadata": {},
   "source": [
    "Read and explore up to the \"demographic events\" in a really nice [jupyter notebook](https://github.com/jhmarcus/spg-chapter/) written by Jerome Keller, the author of `msprime`. Click the launch binder button at the bottom of the page. We strongly encourage to change parameters in the notebook and build intution on how that effects properties of the coalescent. "
   ]
  },
  {
   "cell_type": "markdown",
   "metadata": {},
   "source": [
    "## Writing your own coalescent simulations"
   ]
  },
  {
   "cell_type": "markdown",
   "metadata": {},
   "source": [
    "You made some inference by looking at summaray statistics of the genotype matrix provided by the fisheries agency. But now lets take it a step further and actually write a coalescent simulation that will generate results that match the summary statistics you computed previously. "
   ]
  },
  {
   "cell_type": "markdown",
   "metadata": {},
   "source": [
    "---"
   ]
  },
  {
   "cell_type": "markdown",
   "metadata": {},
   "source": [
    "Adapting code from Jerhomes notebook "
   ]
  },
  {
   "cell_type": "markdown",
   "metadata": {},
   "source": [
    "---"
   ]
  },
  {
   "cell_type": "code",
   "execution_count": null,
   "metadata": {},
   "outputs": [],
   "source": []
  }
 ],
 "metadata": {
  "kernelspec": {
   "display_name": "Python 3",
   "language": "python",
   "name": "python3"
  },
  "language_info": {
   "codemirror_mode": {
    "name": "ipython",
    "version": 3
   },
   "file_extension": ".py",
   "mimetype": "text/x-python",
   "name": "python",
   "nbconvert_exporter": "python",
   "pygments_lexer": "ipython3",
   "version": "3.6.4"
  }
 },
 "nbformat": 4,
 "nbformat_minor": 2
}
